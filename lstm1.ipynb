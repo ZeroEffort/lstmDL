{
 "cells": [
  {
   "cell_type": "code",
   "execution_count": null,
   "metadata": {
    "collapsed": true
   },
   "outputs": [],
   "source": [
    "import librosa\n",
    "import numpy as np\n",
    "from IPython.lib.display import Audio\n",
    "import tensorflow as tf\n",
    "import tflearn\n",
    "import pandas as pd\n",
    "from random import shuffle\n",
    "import os"
   ]
  },
  {
   "cell_type": "code",
   "execution_count": null,
   "metadata": {
    "collapsed": true
   },
   "outputs": [],
   "source": [
    "learning_rate = 0.0001\n",
    "training_iters = 300000  # steps\n",
    "batch_size = 64\n",
    "\n",
    "width = 20  # mfcc features\n",
    "height = 80  # (max) length of utterance\n",
    "classes = 10 # digits"
   ]
  },
  {
   "cell_type": "code",
   "execution_count": null,
   "metadata": {},
   "outputs": [],
   "source": [
    "def mfcc_batch_generator(batch_size=20):\n",
    "\t#maybe_download(source, DATA_DIR)\n",
    "\t#if target == Target.speaker: speakers = get_speakers()\n",
    "\tbatch_features = []\n",
    "\tlabels = []\n",
    "\tfiles = os.listdir(\"/home/chaima/train/audio/yes\")\n",
    "\twhile True:\n",
    "\t\t#print(\"loaded batch of %d files\" % len(files))\n",
    "\t\t#shuffle(filename)\n",
    "\t\tfor file in files:\n",
    "\t\t\t#if not file.endswith(\".wav\"): continue\n",
    "\t\t\twave, sr = librosa.load(\"/home/chaima/train/audio/yes\"+\"/\"+file, mono=True)\n",
    "\t\t\tmfcc = librosa.feature.mfcc(wave, sr)\n",
    "\t\t\t#if target==Target.speaker: label=one_hot_from_item(speaker(file), speakers)\n",
    "\t\t\t#elif target==Target.digits:  label=dense_to_one_hot(int(file[0]),10)\n",
    "\t\t\t#elif target==Target.first_letter:  label=dense_to_one_hot((ord(file[0]) - 48) % 32,32)\n",
    "\t\t\t#elif target == Target.hotword: label = one_hot_word(file, pad_to=max_word_length)  #\n",
    "\t\t\t#elif target == Target.word: label=string_to_int_word(file, pad_to=max_word_length)\n",
    "\t\t\t\t#label = file  # sparse_labels(file, pad_to=20)  # max_output_length\n",
    "\t\t\t#else: raise Exception(\"todo : labels for Target!\")\n",
    "            \n",
    "\t\t\tlabels.append(file)\n",
    "\t\t\tprint(np.array(mfcc).shape)\n",
    "\t\t\tmfcc=np.pad(mfcc,((0,0),(0,80-len(mfcc[0]))), mode='constant', constant_values=0)\n",
    "\t\t\tbatch_features.append(np.array(mfcc))\n",
    "\t\t\tif len(batch_features) >= batch_size:\n",
    "\t\t\t\t# if target == Target.word:  labels = sparse_labels(labels)\n",
    "\t\t\t\t# labels=np.array(labels)\n",
    "\t\t\t\t# print(np.array(batch_features).shape)\n",
    "\t\t\t\t# yield np.array(batch_features), labels\n",
    "\t\t\t\t# print(np.array(labels).shape) # why (64,) instead of (64, 15, 32)? OK IFF dim_1==const (20)\n",
    "\t\t\t\tyield batch_features, labels  # basic_rnn_seq2seq inputs must be a sequence\n",
    "\t\t\t\tbatch_features = []  # Reset for next batch\n",
    "labels = []\n"
   ]
  },
  {
   "cell_type": "code",
   "execution_count": null,
   "metadata": {},
   "outputs": [],
   "source": [
    "batch = word_batch = mfcc_batch_generator(64)\n",
    "X, Y = next(batch)\n",
    "trainX, trainY = X, Y\n",
    "testX, testY = X, Y"
   ]
  },
  {
   "cell_type": "code",
   "execution_count": null,
   "metadata": {},
   "outputs": [],
   "source": [
    "# Network building\n",
    "net = tflearn.input_data([None, width, height])\n",
    "net = tflearn.lstm(net, 128, dropout=0.8)\n",
    "net = tflearn.fully_connected(net, classes, activation='softmax')\n",
    "net = tflearn.regression(net, optimizer='adam', learning_rate=learning_rate, loss='categorical_crossentropy')"
   ]
  },
  {
   "cell_type": "code",
   "execution_count": null,
   "metadata": {
    "scrolled": true
   },
   "outputs": [],
   "source": [
    "col = tf.get_collection(tf.GraphKeys.TRAINABLE_VARIABLES)\n",
    "for x in col:\n",
    "    tf.add_to_collection(tf.GraphKeys.GLOBAL_VARIABLES, x ) \n",
    "\n",
    "\n",
    "model = tflearn.DNN(net, tensorboard_verbose=0)\n",
    "while 1: #training_iters\n",
    "  model.fit(trainX, trainY, n_epoch=10, validation_set=(testX, testY), show_metric=True,batch_size=batch_size)\n",
    "  _y=model.predict(X)\n",
    "model.save(\"tflearn.lstm.model\")\n",
    "print (_y)\n",
    "print (y)"
   ]
  },
  {
   "cell_type": "code",
   "execution_count": null,
   "metadata": {
    "collapsed": true
   },
   "outputs": [],
   "source": []
  }
 ],
 "metadata": {
  "kernelspec": {
   "display_name": "Python 3",
   "language": "python",
   "name": "python3"
  },
  "language_info": {
   "codemirror_mode": {
    "name": "ipython",
    "version": 3
   },
   "file_extension": ".py",
   "mimetype": "text/x-python",
   "name": "python",
   "nbconvert_exporter": "python",
   "pygments_lexer": "ipython3",
   "version": "3.6.3"
  }
 },
 "nbformat": 4,
 "nbformat_minor": 2
}
